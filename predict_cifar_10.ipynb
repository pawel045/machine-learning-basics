{
  "nbformat": 4,
  "nbformat_minor": 0,
  "metadata": {
    "colab": {
      "provenance": [],
      "authorship_tag": "ABX9TyOFqjK+0O7813Z7e1z3aSUS",
      "include_colab_link": true
    },
    "kernelspec": {
      "name": "python3",
      "display_name": "Python 3"
    },
    "language_info": {
      "name": "python"
    }
  },
  "cells": [
    {
      "cell_type": "markdown",
      "metadata": {
        "id": "view-in-github",
        "colab_type": "text"
      },
      "source": [
        "<a href=\"https://colab.research.google.com/github/pawel045/machine-learning-basics/blob/main/Predict_CIFAR_10.ipynb\" target=\"_parent\"><img src=\"https://colab.research.google.com/assets/colab-badge.svg\" alt=\"Open In Colab\"/></a>"
      ]
    },
    {
      "cell_type": "code",
      "execution_count": 9,
      "metadata": {
        "id": "OI7RX0c-5E-U"
      },
      "outputs": [],
      "source": [
        "import tensorflow as tf\n",
        "from tensorflow.keras import datasets, layers, models\n",
        "from tensorflow.keras.models import Sequential\n",
        "from tensorflow.keras.layers import Conv2D, MaxPooling2D, Flatten, Dense, Dropout\n",
        "import matplotlib.pyplot as plt"
      ]
    },
    {
      "cell_type": "code",
      "source": [
        "# load data and split on train/test sets\n",
        "cifar10 = datasets.cifar10\n",
        "(x_train, y_train), (x_test, y_test) = cifar10.load_data()\n",
        "x_train.shape, y_train.shape, x_test.shape, y_test.shape"
      ],
      "metadata": {
        "colab": {
          "base_uri": "https://localhost:8080/"
        },
        "id": "sGmX1s4T5pmA",
        "outputId": "68ded84a-cd86-4ea4-c943-7bd6aeb4c317"
      },
      "execution_count": 4,
      "outputs": [
        {
          "output_type": "stream",
          "name": "stdout",
          "text": [
            "Downloading data from https://www.cs.toronto.edu/~kriz/cifar-10-python.tar.gz\n",
            "170498071/170498071 [==============================] - 2s 0us/step\n"
          ]
        },
        {
          "output_type": "execute_result",
          "data": {
            "text/plain": [
              "((50000, 32, 32, 3), (50000, 1), (10000, 32, 32, 3), (10000, 1))"
            ]
          },
          "metadata": {},
          "execution_count": 4
        }
      ]
    },
    {
      "cell_type": "code",
      "source": [
        "# normalize the pixels\n",
        "x_train = x_train/255.0\n",
        "x_test = x_test/255.0"
      ],
      "metadata": {
        "id": "Nj8Kq0St6sUY"
      },
      "execution_count": 5,
      "outputs": []
    },
    {
      "cell_type": "code",
      "source": [
        "index = 1\n",
        "class_names = ['airplane', 'automobile', 'bird', 'cat', 'deer', 'dog', 'frog', 'horse', 'ship', 'truck']\n",
        "plt.imshow(x_train[index])\n",
        "class_names[int(y_train[index])]"
      ],
      "metadata": {
        "colab": {
          "base_uri": "https://localhost:8080/",
          "height": 285
        },
        "id": "gywRZ2hM7E4L",
        "outputId": "0c224abc-546f-424c-f92c-504d0e21945f"
      },
      "execution_count": 6,
      "outputs": [
        {
          "output_type": "execute_result",
          "data": {
            "text/plain": [
              "'truck'"
            ],
            "application/vnd.google.colaboratory.intrinsic+json": {
              "type": "string"
            }
          },
          "metadata": {},
          "execution_count": 6
        },
        {
          "output_type": "display_data",
          "data": {
            "text/plain": [
              "<Figure size 432x288 with 1 Axes>"
            ],
            "image/png": "[encoded data removed]"
          },
          "metadata": {
            "needs_background": "light"
          }
        }
      ]
    },
    {
      "cell_type": "code",
      "source": [
        "# create convolutional neural network\n",
        "model = Sequential()\n",
        "model.add(Conv2D(32, (3,3), activation='relu', input_shape=(32, 32, 3)))\n",
        "model.add(MaxPooling2D((2,2)))\n",
        "model.add(Conv2D(64, (3,3), activation='relu'))\n",
        "model.add(MaxPooling2D((2,2)))\n",
        "model.add(Flatten())\n",
        "model.add(Dense(64, input_dim=4, activation='relu'))\n",
        "model.add(Dense(10))\n",
        "\n",
        "model.compile(optimizer='adam', loss=tf.keras.losses.SparseCategoricalCrossentropy(from_logits=True), metrics=['accuracy'])"
      ],
      "metadata": {
        "id": "rZjARhGB8Yjl"
      },
      "execution_count": null,
      "outputs": []
    },
    {
      "cell_type": "code",
      "source": [
        "# train the model\n",
        "model.fit(x_train, y_train, epochs=10)\n",
        "model.evaluate(x_test, y_test)"
      ],
      "metadata": {
        "colab": {
          "base_uri": "https://localhost:8080/"
        },
        "id": "W1_FKhNH9jcD",
        "outputId": "5daac7f3-8e2a-4fcf-8daf-036f2d575e62"
      },
      "execution_count": null,
      "outputs": [
        {
          "output_type": "stream",
          "name": "stdout",
          "text": [
            "Epoch 1/10\n",
            "1563/1563 [==============================] - 79s 50ms/step - loss: 1.4590 - accuracy: 0.4747\n",
            "Epoch 2/10\n",
            "1563/1563 [==============================] - 71s 45ms/step - loss: 1.1062 - accuracy: 0.6115\n",
            "Epoch 3/10\n",
            "1563/1563 [==============================] - 71s 46ms/step - loss: 0.9772 - accuracy: 0.6582\n",
            "Epoch 4/10\n",
            "1563/1563 [==============================] - 72s 46ms/step - loss: 0.8930 - accuracy: 0.6892\n",
            "Epoch 5/10\n",
            "1563/1563 [==============================] - 71s 45ms/step - loss: 0.8238 - accuracy: 0.7149\n",
            "Epoch 6/10\n",
            "1563/1563 [==============================] - 71s 45ms/step - loss: 0.7688 - accuracy: 0.7328\n",
            "Epoch 7/10\n",
            "1563/1563 [==============================] - 71s 45ms/step - loss: 0.7205 - accuracy: 0.7496\n",
            "Epoch 8/10\n",
            "1563/1563 [==============================] - 73s 46ms/step - loss: 0.6758 - accuracy: 0.7654\n",
            "Epoch 9/10\n",
            "1563/1563 [==============================] - 72s 46ms/step - loss: 0.6411 - accuracy: 0.7756\n",
            "Epoch 10/10\n",
            "1563/1563 [==============================] - 84s 54ms/step - loss: 0.6010 - accuracy: 0.7896\n",
            "313/313 [==============================] - 7s 21ms/step - loss: 0.9242 - accuracy: 0.7047\n"
          ]
        },
        {
          "output_type": "execute_result",
          "data": {
            "text/plain": [
              "[0.9242280125617981, 0.7046999931335449]"
            ]
          },
          "metadata": {},
          "execution_count": 37
        }
      ]
    },
    {
      "cell_type": "code",
      "source": [
        "# prediction on test set\n",
        "prediction = model.predict(x_test)"
      ],
      "metadata": {
        "colab": {
          "base_uri": "https://localhost:8080/"
        },
        "id": "pSjqDCTYA_Jm",
        "outputId": "af4ca0be-8ace-4da5-8f39-7124ea992e9a"
      },
      "execution_count": null,
      "outputs": [
        {
          "output_type": "stream",
          "name": "stdout",
          "text": [
            "313/313 [==============================] - 4s 14ms/step\n"
          ]
        }
      ]
    },
    {
      "cell_type": "code",
      "source": [
        "# result of prediction -> accuracy 70%\n",
        "index = 101\n",
        "plt.imshow(x_test[index])\n",
        "class_names[prediction[index].argmax()]"
      ],
      "metadata": {
        "colab": {
          "base_uri": "https://localhost:8080/",
          "height": 285
        },
        "id": "1Qz7xxGAAk2-",
        "outputId": "111ba8f9-b01b-4517-83fe-4673bacb76e0"
      },
      "execution_count": 44,
      "outputs": [
        {
          "output_type": "execute_result",
          "data": {
            "text/plain": [
              "'bird'"
            ],
            "application/vnd.google.colaboratory.intrinsic+json": {
              "type": "string"
            }
          },
          "metadata": {},
          "execution_count": 44
        },
        {
          "output_type": "display_data",
          "data": {
            "text/plain": [
              "<Figure size 432x288 with 1 Axes>"
            ],
            "image/png": "[encoded data removed]"
          },
          "metadata": {
            "needs_background": "light"
          }
        }
      ]
    },
    {
      "cell_type": "code",
      "source": [
        "# try improve the model\n",
        "model = Sequential()\n",
        "model.add(Conv2D(32, (3,3), activation='relu', input_shape=(32, 32, 3)))\n",
        "model.add(MaxPooling2D((2,2)))\n",
        "model.add(Conv2D(64, (3,3), activation='relu'))\n",
        "model.add(MaxPooling2D((2,2)))\n",
        "model.add(Flatten())\n",
        "model.add(Dropout(.25))\n",
        "model.add(Dense(256, input_dim=4, activation='relu'))\n",
        "model.add(Dense(10))\n",
        "\n",
        "model.compile(optimizer='adam', loss=tf.keras.losses.SparseCategoricalCrossentropy(from_logits=True), metrics=['accuracy'])"
      ],
      "metadata": {
        "id": "gI2tryhSNzOF"
      },
      "execution_count": 25,
      "outputs": []
    },
    {
      "cell_type": "code",
      "source": [
        "# train the new model -> accuracy 72%\n",
        "model.fit(x_train, y_train, epochs=20)\n",
        "model.evaluate(x_test, y_test)"
      ],
      "metadata": {
        "colab": {
          "base_uri": "https://localhost:8080/"
        },
        "id": "aCwD-Xu9N3x8",
        "outputId": "95a9f458-9148-4c37-ff8a-b6c3c2f6d770"
      },
      "execution_count": 27,
      "outputs": [
        {
          "output_type": "stream",
          "name": "stdout",
          "text": [
            "Epoch 1/20\n",
            "1563/1563 [==============================] - 54s 35ms/step - loss: 1.3396 - accuracy: 0.5201\n",
            "Epoch 2/20\n",
            "1563/1563 [==============================] - 54s 35ms/step - loss: 1.0523 - accuracy: 0.6295\n",
            "Epoch 3/20\n",
            "1563/1563 [==============================] - 53s 34ms/step - loss: 0.9161 - accuracy: 0.6799\n",
            "Epoch 4/20\n",
            "1563/1563 [==============================] - 54s 34ms/step - loss: 0.8089 - accuracy: 0.7156\n",
            "Epoch 5/20\n",
            "1563/1563 [==============================] - 53s 34ms/step - loss: 0.7207 - accuracy: 0.7462\n",
            "Epoch 6/20\n",
            "1563/1563 [==============================] - 55s 35ms/step - loss: 0.6496 - accuracy: 0.7757\n",
            "Epoch 7/20\n",
            "1563/1563 [==============================] - 52s 33ms/step - loss: 0.5819 - accuracy: 0.7951\n",
            "Epoch 8/20\n",
            "1563/1563 [==============================] - 52s 33ms/step - loss: 0.5264 - accuracy: 0.8138\n",
            "Epoch 9/20\n",
            "1563/1563 [==============================] - 52s 34ms/step - loss: 0.4714 - accuracy: 0.8336\n",
            "Epoch 10/20\n",
            "1563/1563 [==============================] - 51s 33ms/step - loss: 0.4237 - accuracy: 0.8500\n",
            "Epoch 11/20\n",
            "1563/1563 [==============================] - 51s 33ms/step - loss: 0.3871 - accuracy: 0.8618\n",
            "Epoch 12/20\n",
            "1563/1563 [==============================] - 53s 34ms/step - loss: 0.3506 - accuracy: 0.8751\n",
            "Epoch 13/20\n",
            "1563/1563 [==============================] - 52s 33ms/step - loss: 0.3203 - accuracy: 0.8867\n",
            "Epoch 14/20\n",
            "1563/1563 [==============================] - 51s 33ms/step - loss: 0.2932 - accuracy: 0.8957\n",
            "Epoch 15/20\n",
            "1563/1563 [==============================] - 51s 33ms/step - loss: 0.2742 - accuracy: 0.9030\n",
            "Epoch 16/20\n",
            "1563/1563 [==============================] - 49s 32ms/step - loss: 0.2578 - accuracy: 0.9089\n",
            "Epoch 17/20\n",
            "1563/1563 [==============================] - 49s 31ms/step - loss: 0.2406 - accuracy: 0.9149\n",
            "Epoch 18/20\n",
            "1563/1563 [==============================] - 49s 31ms/step - loss: 0.2279 - accuracy: 0.9200\n",
            "Epoch 19/20\n",
            "1563/1563 [==============================] - 50s 32ms/step - loss: 0.2200 - accuracy: 0.9210\n",
            "Epoch 20/20\n",
            "1563/1563 [==============================] - 49s 31ms/step - loss: 0.2059 - accuracy: 0.9275\n",
            "313/313 [==============================] - 3s 10ms/step - loss: 1.1403 - accuracy: 0.7249\n"
          ]
        },
        {
          "output_type": "execute_result",
          "data": {
            "text/plain": [
              "[1.1403217315673828, 0.7249000072479248]"
            ]
          },
          "metadata": {},
          "execution_count": 27
        }
      ]
    }
  ]
}
