{
  "nbformat": 4,
  "nbformat_minor": 0,
  "metadata": {
    "colab": {
      "provenance": [],
      "authorship_tag": "ABX9TyNroUSBu/QCPUfMMPX11sqi",
      "include_colab_link": true
    },
    "kernelspec": {
      "name": "python3",
      "display_name": "Python 3"
    },
    "language_info": {
      "name": "python"
    }
  },
  "cells": [
    {
      "cell_type": "markdown",
      "metadata": {
        "id": "view-in-github",
        "colab_type": "text"
      },
      "source": [
        "<a href=\"https://colab.research.google.com/github/pawel045/machine-learning-basics/blob/main/Reinforcement_learning.ipynb\" target=\"_parent\"><img src=\"https://colab.research.google.com/assets/colab-badge.svg\" alt=\"Open In Colab\"/></a>"
      ]
    },
    {
      "cell_type": "code",
      "execution_count": null,
      "metadata": {
        "id": "b1Qew9fN1_rF"
      },
      "outputs": [],
      "source": [
        "import numpy as np\n",
        "import random"
      ]
    },
    {
      "cell_type": "code",
      "source": [
        "class Field:\n",
        "    def __init__(self) -> None:\n",
        "        \"\"\"\n",
        "        Initialize field and set a random start state\n",
        "        \"\"\"\n",
        "        self.states = [\n",
        "            [-1, 0, 0, 0, 0, 0, 0, 0, 0, 0, 0, 0],\n",
        "            [-1, 0, 0, 0, 0, 0, 0, 0, 1, 0, 0, 0],\n",
        "            [0, 0, 0, 0, 0, 0, 0, 0, 0, 0, 0, 0]\n",
        "            ]\n",
        "        self.state = (random.randrange(0, len(self.states)), random.randrange(0, len(self.states[0])))\n",
        "    \n",
        "    def done(self):\n",
        "        \"\"\"\n",
        "        Check if it isn't in a neutral state\n",
        "        \"\"\"\n",
        "        if self.states[self.state[0]][self.state[1]] != 0:\n",
        "            return True\n",
        "        else:\n",
        "            return False\n",
        "    \n",
        "    def get_possible_actions(self):\n",
        "        \"\"\"\n",
        "        Return possible actions in state\n",
        "\n",
        "        Action:\n",
        "               0 => left\n",
        "               1 => right\n",
        "               2 => up\n",
        "               3 => down\n",
        "        \"\"\"    \n",
        "        actions = [0, 1, 2, 3]\n",
        "        if self.state[0] == 0:\n",
        "            actions.remove(2)\n",
        "        if self.state[0] == len(self.states) -1:\n",
        "            actions.remove(3)\n",
        "        if self.state[1] == 0:\n",
        "            actions.remove(0)\n",
        "        if self.state[1] == len(self.states[0]) -1:\n",
        "            actions.remove(1)\n",
        "        return actions\n",
        "\n",
        "    def update_next_state(self, action):\n",
        "        \"\"\" \n",
        "        Update state according to action -> Return state and reward\n",
        "        \"\"\"\n",
        "        x, y = self.state\n",
        "\n",
        "        if action == 0:\n",
        "            if y == 0:\n",
        "                return self.state, -10\n",
        "            self.state = x, y - 1\n",
        "        if action == 1:\n",
        "            if y == len(self.states) -1:\n",
        "                return self.state, -10\n",
        "            self.state = x, y + 1\n",
        "        if action == 2:\n",
        "            if x == 0:\n",
        "                return self.state, -10\n",
        "            self.state = x - 1, y\n",
        "        if action == 3:\n",
        "            if self.state == len(self.states) -1:\n",
        "                return self.state, -10\n",
        "            self.state = x + 1, y        \n",
        "        reward = self.states[self.state[0]][self.state[1]]\n",
        "        return self.state, reward\n"
      ],
      "metadata": {
        "id": "BuyfbLP42gCf"
      },
      "execution_count": null,
      "outputs": []
    },
    {
      "cell_type": "code",
      "source": [
        "field = Field()\n",
        "q_table = np.zeros((len(field.states), len(field.states[0]), 4))\n",
        "\n",
        "alpha = .5\n",
        "epsilon = .5\n",
        "gamma = .5\n",
        "\n",
        "for _ in range(10000):\n",
        "    field = Field()\n",
        "    while not field.done():\n",
        "        actions = field.get_possible_actions()\n",
        "        if random.uniform(0, 1) < epsilon:\n",
        "            action = random.choice(actions)\n",
        "        else:\n",
        "            action = np.argmax(q_table[field.state])\n",
        "        \n",
        "        cur_x, cur_y = field.state\n",
        "        (next_x, next_y), reward = field.update_next_state(action)\n",
        "        q_table[cur_x, cur_y, action] = (1 - alpha)*q_table[cur_x, cur_y, action] + alpha*(reward + gamma*np.max(q_table[next_x, next_y]))\n",
        "     "
      ],
      "metadata": {
        "id": "tVUncEyZLS_K"
      },
      "execution_count": null,
      "outputs": []
    },
    {
      "cell_type": "code",
      "source": [
        "q_table"
      ],
      "metadata": {
        "colab": {
          "base_uri": "https://localhost:8080/"
        },
        "id": "RkoMiN4bcQiE",
        "outputId": "46d9ba6d-b7e9-444c-9b89-3656f2bdc91d"
      },
      "execution_count": null,
      "outputs": [
        {
          "output_type": "execute_result",
          "data": {
            "text/plain": [
              "array([[[  0.      ,   0.      ,   0.      ,   0.      ],\n",
              "        [ -1.      ,   0.      ,   0.      ,   0.      ],\n",
              "        [  0.      , -10.      ,   0.      ,   0.      ],\n",
              "        [  0.      ,   0.03125 ,   0.      ,   0.03125 ],\n",
              "        [  0.015625,   0.0625  ,   0.      ,   0.0625  ],\n",
              "        [  0.03125 ,   0.125   ,   0.      ,   0.125   ],\n",
              "        [  0.0625  ,   0.25    ,   0.      ,   0.25    ],\n",
              "        [  0.125   ,   0.5     ,   0.      ,   0.5     ],\n",
              "        [  0.25    ,   0.25    ,   0.      ,   1.      ],\n",
              "        [  0.5     ,   0.125   ,   0.      ,   0.5     ],\n",
              "        [  0.25    ,   0.0625  ,   0.      ,   0.25    ],\n",
              "        [  0.125   ,   0.      ,   0.      ,   0.125   ]],\n",
              "\n",
              "       [[  0.      ,   0.      ,   0.      ,   0.      ],\n",
              "        [ -1.      ,   0.      ,   0.      ,   0.      ],\n",
              "        [  0.      , -10.      ,   0.      ,   0.      ],\n",
              "        [  0.      ,   0.0625  ,   0.015625,   0.015625],\n",
              "        [  0.03125 ,   0.125   ,   0.03125 ,   0.03125 ],\n",
              "        [  0.0625  ,   0.25    ,   0.0625  ,   0.0625  ],\n",
              "        [  0.125   ,   0.5     ,   0.125   ,   0.125   ],\n",
              "        [  0.25    ,   1.      ,   0.25    ,   0.25    ],\n",
              "        [  0.      ,   0.      ,   0.      ,   0.      ],\n",
              "        [  1.      ,   0.25    ,   0.25    ,   0.25    ],\n",
              "        [  0.5     ,   0.125   ,   0.125   ,   0.125   ],\n",
              "        [  0.25    ,   0.      ,   0.0625  ,   0.0625  ]],\n",
              "\n",
              "       [[ -5.      ,   0.      ,  -1.      ,   0.      ],\n",
              "        [  0.      ,   0.      ,   0.      ,   0.      ],\n",
              "        [  0.      , -10.      ,   0.      ,   0.      ],\n",
              "        [  0.      ,   0.03125 ,   0.03125 ,   0.      ],\n",
              "        [  0.015625,   0.0625  ,   0.0625  ,   0.      ],\n",
              "        [  0.03125 ,   0.125   ,   0.125   ,   0.      ],\n",
              "        [  0.0625  ,   0.25    ,   0.25    ,   0.      ],\n",
              "        [  0.125   ,   0.5     ,   0.5     ,   0.      ],\n",
              "        [  0.25    ,   0.25    ,   1.      ,   0.      ],\n",
              "        [  0.5     ,   0.125   ,   0.5     ,   0.      ],\n",
              "        [  0.25    ,   0.0625  ,   0.25    ,   0.      ],\n",
              "        [  0.125   ,   0.      ,   0.125   ,   0.      ]]])"
            ]
          },
          "metadata": {},
          "execution_count": 274
        }
      ]
    },
    {
      "cell_type": "code",
      "source": [
        "path = np.zeros((3, 12))\n",
        "field = Field()\n",
        "steps = 1\n",
        "path[field.state[0]][field.state[1]] = np.nan\n",
        "\n",
        "while not field.done():\n",
        "    action = np.argmax(q_table[field.state])\n",
        "\n",
        "    (next_x, next_y), _ = field.update_next_state(action)\n",
        "    path[next_x][next_y] = steps\n",
        "    steps +=1"
      ],
      "metadata": {
        "id": "d5OS6D1fcTfk"
      },
      "execution_count": null,
      "outputs": []
    },
    {
      "cell_type": "code",
      "source": [
        "path"
      ],
      "metadata": {
        "colab": {
          "base_uri": "https://localhost:8080/"
        },
        "id": "Q5jQqbrIdq8I",
        "outputId": "9089942e-a25c-438f-d8eb-78ab66b5d12e"
      },
      "execution_count": null,
      "outputs": [
        {
          "output_type": "execute_result",
          "data": {
            "text/plain": [
              "array([[ 0.,  0.,  0.,  0., nan,  1.,  2.,  3.,  4.,  0.,  0.,  0.],\n",
              "       [ 0.,  0.,  0.,  0.,  0.,  0.,  0.,  0.,  5.,  0.,  0.,  0.],\n",
              "       [ 0.,  0.,  0.,  0.,  0.,  0.,  0.,  0.,  0.,  0.,  0.,  0.]])"
            ]
          },
          "metadata": {},
          "execution_count": 276
        }
      ]
    }
  ]
}